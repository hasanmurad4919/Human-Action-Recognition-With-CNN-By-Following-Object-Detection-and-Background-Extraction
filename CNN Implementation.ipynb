{
 "cells": [
  {
   "cell_type": "code",
   "execution_count": 1,
   "id": "873e67ba",
   "metadata": {},
   "outputs": [],
   "source": [
    "import os\n",
    "import cv2\n",
    "import numpy as np\n",
    "from imutils import paths\n"
   ]
  },
  {
   "cell_type": "code",
   "execution_count": 2,
   "id": "b8b40ae6",
   "metadata": {},
   "outputs": [],
   "source": [
    "from sklearn.preprocessing import LabelBinarizer"
   ]
  },
  {
   "cell_type": "code",
   "execution_count": 3,
   "id": "22c45c28",
   "metadata": {},
   "outputs": [],
   "source": [
    "from sklearn.model_selection import train_test_split"
   ]
  },
  {
   "cell_type": "code",
   "execution_count": 4,
   "id": "e98e5504",
   "metadata": {},
   "outputs": [],
   "source": [
    "from keras.preprocessing.image import ImageDataGenerator"
   ]
  },
  {
   "cell_type": "code",
   "execution_count": 5,
   "id": "a628460b",
   "metadata": {},
   "outputs": [],
   "source": [
    "datapath=r\"C:\\Users\\18301253\\Desktop\\Project\\Frames\""
   ]
  },
  {
   "cell_type": "code",
   "execution_count": 6,
   "id": "549ecbae",
   "metadata": {},
   "outputs": [],
   "source": [
    "outputmodel=r\"C:\\Users\\18301253\\Desktop\\Project\\CNNModel\"\n",
    "outputlabelbinarizer=r\"C:\\Users\\18301253\\Desktop\\Project\\videoclassificationbinarizer\""
   ]
  },
  {
   "cell_type": "code",
   "execution_count": 7,
   "id": "1b30f390",
   "metadata": {},
   "outputs": [
    {
     "name": "stdout",
     "output_type": "stream",
     "text": [
      "images are loading...\n",
      " Total 22824 images loaded...\n"
     ]
    }
   ],
   "source": [
    "Sports_Label=set(['Biking','PoleVault','Swing','WalkingWithDog'])\n",
    "print(\"images are loading...\")\n",
    "pathToImages=list(paths.list_images(datapath))\n",
    "data=[]\n",
    "labels=[]\n",
    "count=0\n",
    "for images in pathToImages:\n",
    "    count+=1\n",
    "    label=images.split(os.path.sep)[-2]\n",
    "    if label not in Sports_Label:\n",
    "        continue\n",
    "    image=cv2.imread(images)\n",
    "    image=cv2.cvtColor(image, cv2.COLOR_BGR2RGB)\n",
    "    image=cv2.resize(image,(240,240))\n",
    "    data.append(image)\n",
    "    labels.append(label)\n",
    "print(\" Total\",count,\"images loaded...\")"
   ]
  },
  {
   "cell_type": "code",
   "execution_count": 8,
   "id": "093904aa",
   "metadata": {},
   "outputs": [],
   "source": [
    "data=np.array(data)\n",
    "labels=np.array(labels)\n",
    "#hot enoded values as 0,1,2\n",
    "lb=LabelBinarizer()\n",
    "labels=lb.fit_transform(labels)\n"
   ]
  },
  {
   "cell_type": "code",
   "execution_count": 9,
   "id": "2c01cb64",
   "metadata": {},
   "outputs": [],
   "source": [
    "(X_train,X_test,Y_train,Y_test)=train_test_split(data,labels,test_size=0.25,stratify=labels,random_state=42)"
   ]
  },
  {
   "cell_type": "code",
   "execution_count": 10,
   "id": "cc1b0793",
   "metadata": {},
   "outputs": [],
   "source": [
    "trainingAugmentation=ImageDataGenerator(\n",
    "    rotation_range=30,\n",
    "    zoom_range=0.15,\n",
    "    width_shift_range=0.2,\n",
    "    height_shift_range=0.2,\n",
    "    shear_range=0.15,\n",
    "    horizontal_flip=True,\n",
    "    fill_mode=\"nearest\"\n",
    ")\n",
    "validationAugmentation=ImageDataGenerator()\n",
    "mean=np.array([123.68,116.779,103.939],dtype=\"float32\")\n",
    "trainingAugmentation.mean=mean\n",
    "validationAugmentation.mean=mean\n"
   ]
  },
  {
   "cell_type": "code",
   "execution_count": 11,
   "id": "3d4531f6",
   "metadata": {},
   "outputs": [],
   "source": [
    "#Neural Network\n",
    "from keras.layers import Input\n",
    "from keras.layers.pooling import AveragePooling2D\n",
    "from keras.layers.core import Flatten\n",
    "from keras.layers.core import Dense\n",
    "import keras.applications.resnet\n",
    "\n",
    "from keras.layers import Dropout\n",
    "from keras.models import Model\n",
    "\n",
    " "
   ]
  },
  {
   "cell_type": "code",
   "execution_count": 12,
   "id": "5d33bb1b",
   "metadata": {},
   "outputs": [],
   "source": [
    "from tensorflow.keras.applications import ResNet50"
   ]
  },
  {
   "cell_type": "code",
   "execution_count": 13,
   "id": "ef6fbf0e",
   "metadata": {},
   "outputs": [],
   "source": [
    "baseModel = ResNet50(weights=\"imagenet\", include_top=False,input_tensor=Input(shape=(224, 224, 3)))\n",
    "headModel=baseModel.output\n",
    "headModel=AveragePooling2D(pool_size=(7,7))(headModel)\n",
    "headModel=Flatten(name=\"flatten\")(headModel)\n",
    "headModel=Dense(512,activation=\"relu\")(headModel)\n",
    "headModel=Dropout(0.5)(headModel)\n",
    "headModel=Dense(len(lb.classes_),activation=\"softmax\")(headModel)\n",
    "model=Model(inputs=baseModel.input,outputs=headModel)\n",
    "\n",
    "for basemodelLayers in baseModel.layers:\n",
    "    basemodelLayers.trainable=False"
   ]
  },
  {
   "cell_type": "code",
   "execution_count": 14,
   "id": "ddfc8a0d",
   "metadata": {},
   "outputs": [],
   "source": [
    "from tensorflow.keras.optimizers import SGD"
   ]
  },
  {
   "cell_type": "code",
   "execution_count": 15,
   "id": "24ead2b1",
   "metadata": {},
   "outputs": [
    {
     "name": "stderr",
     "output_type": "stream",
     "text": [
      "C:\\ProgramData\\Anaconda3\\lib\\site-packages\\keras\\optimizer_v2\\gradient_descent.py:102: UserWarning: The `lr` argument is deprecated, use `learning_rate` instead.\n",
      "  super(SGD, self).__init__(name, **kwargs)\n"
     ]
    }
   ],
   "source": [
    "epoch=15\n",
    "opt = SGD(lr=1e-4, momentum=0.9, decay=1e-4/epoch)\n",
    "model.compile(loss=\"categorical_crossentropy\", optimizer=opt,\n",
    "metrics=[\"accuracy\"])"
   ]
  },
  {
   "cell_type": "code",
   "execution_count": 16,
   "id": "d9bb342d",
   "metadata": {},
   "outputs": [
    {
     "name": "stderr",
     "output_type": "stream",
     "text": [
      "C:\\Users\\18301253\\AppData\\Local\\Temp/ipykernel_18072/3817000565.py:1: UserWarning: `Model.fit_generator` is deprecated and will be removed in a future version. Please use `Model.fit`, which supports generators.\n",
      "  History=model.fit_generator(\n"
     ]
    },
    {
     "name": "stdout",
     "output_type": "stream",
     "text": [
      "Epoch 1/15\n",
      "534/534 [==============================] - 1399s 3s/step - loss: 1.0821 - accuracy: 0.5713 - val_loss: 0.7303 - val_accuracy: 0.7446\n",
      "Epoch 2/15\n",
      "534/534 [==============================] - 1366s 3s/step - loss: 0.8168 - accuracy: 0.6987 - val_loss: 0.6483 - val_accuracy: 0.7758\n",
      "Epoch 3/15\n",
      "534/534 [==============================] - 1354s 3s/step - loss: 0.7449 - accuracy: 0.7264 - val_loss: 0.6033 - val_accuracy: 0.7893\n",
      "Epoch 4/15\n",
      "534/534 [==============================] - 1385s 3s/step - loss: 0.7088 - accuracy: 0.7424 - val_loss: 0.5832 - val_accuracy: 0.7988\n",
      "Epoch 5/15\n",
      "534/534 [==============================] - 1371s 3s/step - loss: 0.6772 - accuracy: 0.7538 - val_loss: 0.5522 - val_accuracy: 0.8085\n",
      "Epoch 6/15\n",
      "534/534 [==============================] - 1382s 3s/step - loss: 0.6554 - accuracy: 0.7641 - val_loss: 0.5441 - val_accuracy: 0.8136\n",
      "Epoch 7/15\n",
      "534/534 [==============================] - 1391s 3s/step - loss: 0.6335 - accuracy: 0.7706 - val_loss: 0.5197 - val_accuracy: 0.8223\n",
      "Epoch 8/15\n",
      "534/534 [==============================] - 1389s 3s/step - loss: 0.6223 - accuracy: 0.7748 - val_loss: 0.5116 - val_accuracy: 0.8204\n",
      "Epoch 9/15\n",
      "534/534 [==============================] - 1376s 3s/step - loss: 0.6099 - accuracy: 0.7767 - val_loss: 0.5084 - val_accuracy: 0.8257\n",
      "Epoch 10/15\n",
      "534/534 [==============================] - 1383s 3s/step - loss: 0.5969 - accuracy: 0.7839 - val_loss: 0.4974 - val_accuracy: 0.8292\n",
      "Epoch 11/15\n",
      "534/534 [==============================] - 1384s 3s/step - loss: 0.5868 - accuracy: 0.7885 - val_loss: 0.4888 - val_accuracy: 0.8318\n",
      "Epoch 12/15\n",
      "534/534 [==============================] - 1395s 3s/step - loss: 0.5752 - accuracy: 0.7928 - val_loss: 0.4698 - val_accuracy: 0.8362\n",
      "Epoch 13/15\n",
      "534/534 [==============================] - 1387s 3s/step - loss: 0.5651 - accuracy: 0.7988 - val_loss: 0.4691 - val_accuracy: 0.8378\n",
      "Epoch 14/15\n",
      "534/534 [==============================] - 1364s 3s/step - loss: 0.5636 - accuracy: 0.7976 - val_loss: 0.4644 - val_accuracy: 0.8395\n",
      "Epoch 15/15\n",
      "534/534 [==============================] - 1360s 3s/step - loss: 0.5549 - accuracy: 0.8011 - val_loss: 0.4549 - val_accuracy: 0.8404\n"
     ]
    }
   ],
   "source": [
    "History=model.fit_generator(\n",
    "trainingAugmentation.flow(X_train,Y_train,batch_size=32),\n",
    "    steps_per_epoch=len(X_train)//32,\n",
    "    validation_data=validationAugmentation.flow(X_test,Y_test),\n",
    "    validation_steps=len(X_test)//32,epochs=epoch\n",
    ")"
   ]
  },
  {
   "cell_type": "code",
   "execution_count": 17,
   "id": "2cdd41b3",
   "metadata": {},
   "outputs": [],
   "source": [
    "import pickle\n",
    "from tensorflow.keras.models import Model\n",
    "model.save(\"CNNModel.h5\")\n",
    "lbinarizer=open(r\"C:\\Users\\18301253\\Desktop\\Project\\videoclassificationbinarizer.pickle\",\"wb\")\n",
    "lbinarizer.write(pickle.dumps(lb))\n",
    "lbinarizer.close()"
   ]
  },
  {
   "cell_type": "code",
   "execution_count": null,
   "id": "4d3f0316",
   "metadata": {},
   "outputs": [],
   "source": [
    "model.summary()"
   ]
  },
  {
   "cell_type": "code",
   "execution_count": null,
   "id": "db72c669",
   "metadata": {},
   "outputs": [],
   "source": []
  }
 ],
 "metadata": {
  "kernelspec": {
   "display_name": "Python 3 (ipykernel)",
   "language": "python",
   "name": "python3"
  },
  "language_info": {
   "codemirror_mode": {
    "name": "ipython",
    "version": 3
   },
   "file_extension": ".py",
   "mimetype": "text/x-python",
   "name": "python",
   "nbconvert_exporter": "python",
   "pygments_lexer": "ipython3",
   "version": "3.9.7"
  }
 },
 "nbformat": 4,
 "nbformat_minor": 5
}
