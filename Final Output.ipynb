{
 "cells": [
  {
   "cell_type": "code",
   "execution_count": 1,
   "id": "b951454e",
   "metadata": {},
   "outputs": [],
   "source": [
    "from keras.models import load_model\n",
    "from collections import deque\n",
    "import numpy as np\n",
    "import argparse\n",
    "import pickle\n",
    "import cv2"
   ]
  },
  {
   "cell_type": "code",
   "execution_count": 2,
   "id": "2bb73355",
   "metadata": {},
   "outputs": [],
   "source": [
    "model = load_model(r\"C:\\Users\\18301253\\Desktop\\Project\\CNNModel.h5\")\n",
    "lb = pickle.loads(open(r\"C:\\Users\\18301253\\Desktop\\Project\\videoclassificationbinarizer.pickle\", \"rb\").read())\n",
    "outputvideo=r\"demo_output.mp4\"\n",
    "# initialize the image mean for mean subtraction along with the\n",
    "# predictions queue\n",
    "mean = np.array([123.68, 116.779, 103.939][::1], dtype=\"float32\")\n",
    "Queue = deque(maxlen=128)"
   ]
  },
  {
   "cell_type": "code",
   "execution_count": 3,
   "id": "b53712d5",
   "metadata": {},
   "outputs": [
    {
     "name": "stdout",
     "output_type": "stream",
     "text": [
      "Finalising............\n"
     ]
    }
   ],
   "source": [
    "# initialize the video stream, pointer to output video file, and\n",
    "# frame dimensions\n",
    "capture_video = cv2.VideoCapture(r\"s1.avi\")\n",
    "writer = None\n",
    "(Width, Height) = (None, None)\n",
    "\n",
    "\n",
    "# loop over frames from the video file stream\n",
    "\n",
    "while True:\n",
    "    # read the next frame from the file\n",
    "    (taken, frame) = capture_video.read()\n",
    "    \n",
    "    # if the frame was not grabbed, then we have reached the end\n",
    "    # of the stream\n",
    "    if not taken:\n",
    "        break\n",
    "        \n",
    "    # if the frame dimensions are empty, grab them\n",
    "    if Width is None or Height is None:\n",
    "        (Width, Height) = frame.shape[:2]\n",
    " \n",
    "    # clone the output frame, then convert it from BGR to RGB\n",
    "    # ordering, resize the frame to a fixed 224x224, and then\n",
    "    # perform mean subtraction\n",
    "    output = frame.copy()\n",
    "    frame = cv2.cvtColor(frame, cv2.COLOR_BGR2RGB)\n",
    "    frame = cv2.resize(frame, (224, 224)).astype(\"float32\")\n",
    "    frame -= mean\n",
    "\n",
    "\n",
    "    # make predictions on the frame and then update the predictions\n",
    "    # queue\n",
    "    preds = model.predict(np.expand_dims(frame, axis=0))[0]\n",
    "    Queue.append(preds)\n",
    "\n",
    "    # perform prediction averaging over the current history of\n",
    "    # previous predictions\n",
    "    results = np.array(Queue).mean(axis=0)\n",
    "    i = np.argmax(results)\n",
    "    label = lb.classes_[i]\n",
    "\n",
    "\n",
    "    # draw the activity on the output frame\n",
    "    text = \"Activity: {}\".format(label)\n",
    "    cv2.putText(output, text, (15,20), cv2.FONT_HERSHEY_SIMPLEX,0.75, (255, 0,0), 5)\n",
    "\n",
    "    \n",
    "    # check if the video writer is None\n",
    "    if writer is None:\n",
    "    # initialize our video writer\n",
    "        fourcc = cv2.VideoWriter_fourcc(*\"MJPG\")\n",
    "        writer = cv2.VideoWriter(outputvideo, fourcc, 60,(512, 512), True)\n",
    "    # write the output frame to disk\n",
    "    writer.write(output)\n",
    "    # show the output image\n",
    "    cv2.imshow(\"Output\", output)\n",
    "    key = cv2.waitKey(1) & 0xFF\n",
    "    # if the `q` key was pressed, break from the loop\n",
    "    if key == ord(\"q\"):\n",
    "        break\n",
    "# release the file pointers\n",
    "print(\"Finalising............\")\n",
    "writer.release()\n",
    "capture_video.release()"
   ]
  },
  {
   "cell_type": "code",
   "execution_count": null,
   "id": "5f158905",
   "metadata": {},
   "outputs": [],
   "source": []
  }
 ],
 "metadata": {
  "kernelspec": {
   "display_name": "Python 3 (ipykernel)",
   "language": "python",
   "name": "python3"
  },
  "language_info": {
   "codemirror_mode": {
    "name": "ipython",
    "version": 3
   },
   "file_extension": ".py",
   "mimetype": "text/x-python",
   "name": "python",
   "nbconvert_exporter": "python",
   "pygments_lexer": "ipython3",
   "version": "3.9.7"
  }
 },
 "nbformat": 4,
 "nbformat_minor": 5
}
